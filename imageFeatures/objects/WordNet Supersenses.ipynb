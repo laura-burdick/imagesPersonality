{
 "cells": [
  {
   "cell_type": "code",
   "execution_count": null,
   "metadata": {
    "collapsed": true
   },
   "outputs": [],
   "source": [
    "#Given raw image features, calculate wordnet supersense features"
   ]
  },
  {
   "cell_type": "code",
   "execution_count": null,
   "metadata": {
    "collapsed": true
   },
   "outputs": [],
   "source": [
    "import pandas as pd\n",
    "import numpy as np\n",
    "from nltk.corpus import wordnet as wn\n",
    "import copy"
   ]
  },
  {
   "cell_type": "code",
   "execution_count": null,
   "metadata": {
    "collapsed": true
   },
   "outputs": [],
   "source": [
    "#Change these variables to work with your setup\n",
    "home = '/local/image_personality/image_data/data2016/'\n",
    "IMAGE_FILE = home+\"image_features/features_image_all_averages.csv\" #all average object detection features\n",
    "OUTPUT_FILE = home+'features_objects_supersenses.csv'"
   ]
  },
  {
   "cell_type": "code",
   "execution_count": null,
   "metadata": {
    "collapsed": true
   },
   "outputs": [],
   "source": [
    "imageFeatures = pd.read_csv(IMAGE_FILE)\n",
    "imageFeatures = imageFeatures.drop(\"Unnamed: 0\",axis=1)"
   ]
  },
  {
   "cell_type": "code",
   "execution_count": null,
   "metadata": {
    "collapsed": true
   },
   "outputs": [],
   "source": [
    "objs = [i for i in imageFeatures.columns.values if i[:8]==\"IMAGENET\"]"
   ]
  },
  {
   "cell_type": "code",
   "execution_count": null,
   "metadata": {
    "collapsed": true
   },
   "outputs": [],
   "source": [
    "#Get all wordnet synsets and their offsets\n",
    "syns = list(wn.all_synsets())\n",
    "offsets_list = [(s.offset(), s) for s in syns]\n",
    "offsets_dict = dict(offsets_list)"
   ]
  },
  {
   "cell_type": "code",
   "execution_count": null,
   "metadata": {
    "collapsed": true
   },
   "outputs": [],
   "source": [
    "#Assign each word to a WordNet supersense\n",
    "lexnames = {}\n",
    "for obj in objs:\n",
    "    offset = int(obj.split(' ')[1][1:])\n",
    "    synset = offsets_dict[offset]\n",
    "    if synset._lexname in lexnames:\n",
    "        lexnames[synset._lexname].append(obj)\n",
    "    else:\n",
    "        lexnames[synset._lexname] = [obj]"
   ]
  },
  {
   "cell_type": "code",
   "execution_count": null,
   "metadata": {},
   "outputs": [],
   "source": [
    "#How many words are in each supersense?\n",
    "for key,value in lexnames.items():\n",
    "    print(key,len(value))"
   ]
  },
  {
   "cell_type": "code",
   "execution_count": null,
   "metadata": {
    "collapsed": true
   },
   "outputs": [],
   "source": [
    "supersense_features = copy.copy(imageFeatures)"
   ]
  },
  {
   "cell_type": "code",
   "execution_count": null,
   "metadata": {
    "collapsed": true
   },
   "outputs": [],
   "source": [
    "supersense_features = supersense_features[['id']]"
   ]
  },
  {
   "cell_type": "code",
   "execution_count": null,
   "metadata": {
    "collapsed": true
   },
   "outputs": [],
   "source": [
    "for supersense,objects in lexnames.items():\n",
    "    temp = imageFeatures[objects[0]]\n",
    "    for obj in objects[1:]:\n",
    "        temp += imageFeatures[obj]\n",
    "    supersense_features['supersense_'+supersense] = temp"
   ]
  },
  {
   "cell_type": "code",
   "execution_count": null,
   "metadata": {
    "collapsed": true,
    "scrolled": true
   },
   "outputs": [],
   "source": [
    "supersense_features.to_csv(OUTPUT_FILE)"
   ]
  }
 ],
 "metadata": {
  "kernelspec": {
   "display_name": "Python 3",
   "language": "python",
   "name": "python3"
  },
  "language_info": {
   "codemirror_mode": {
    "name": "ipython",
    "version": 3
   },
   "file_extension": ".py",
   "mimetype": "text/x-python",
   "name": "python",
   "nbconvert_exporter": "python",
   "pygments_lexer": "ipython3",
   "version": "3.6.3"
  }
 },
 "nbformat": 4,
 "nbformat_minor": 2
}
