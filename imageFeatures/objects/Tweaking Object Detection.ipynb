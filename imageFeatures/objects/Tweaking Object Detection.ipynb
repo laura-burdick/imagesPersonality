{
 "cells": [
  {
   "cell_type": "code",
   "execution_count": null,
   "metadata": {
    "collapsed": true
   },
   "outputs": [],
   "source": [
    "import pandas as pd\n",
    "import numpy as np"
   ]
  },
  {
   "cell_type": "code",
   "execution_count": null,
   "metadata": {
    "collapsed": true
   },
   "outputs": [],
   "source": [
    "# Change these variables to work with your setup\n",
    "files = ['xaa','xab','xac','xad','xae','xaf','boundingBoxes_cmyk','xaa_modified','xab_modified','xac_modified',\n",
    "        'xad_modified','xae_modified','boundingBoxes_errors'] #All the output files that you want to work with\n",
    "OUTPUT_FILE_PATH=\"data2016/object_output/\" #where the output is stored\n",
    "FEATURE_FILE = \"data2016/image_features/features_objects.csv\" #save the results"
   ]
  },
  {
   "cell_type": "code",
   "execution_count": null,
   "metadata": {
    "collapsed": true
   },
   "outputs": [],
   "source": [
    "f = open('imagenet_synset_words.txt', 'r')\n",
    "labels = []\n",
    "for line in f:\n",
    "    line = line[line.find(\" \")+1:-1]\n",
    "    labels.append(line)"
   ]
  },
  {
   "cell_type": "code",
   "execution_count": null,
   "metadata": {},
   "outputs": [],
   "source": [
    "value = 11\n",
    "\n",
    "all_summed = {}\n",
    "\n",
    "totalImageNames = 0\n",
    "\n",
    "for file in files:\n",
    "    print(file)\n",
    "    output = pd.read_csv(OUTPUT_FILE_PATH+\"output_\"+file+\".csv\")\n",
    "\n",
    "    zeroed = output.drop(['Unnamed: 0','level_1','level_2','level_3','level_4'],axis=1)\n",
    "    imageNames = zeroed['level_0'].unique()\n",
    "    totalImageNames += len(imageNames)\n",
    "    \n",
    "    for imageName in imageNames:\n",
    "        image_zeroed = zeroed.loc[zeroed['level_0']==imageName]\n",
    "        image_zeroed = image_zeroed.drop('level_0',axis=1)\n",
    "        image_zeroed[image_zeroed < value/100] = 0\n",
    "\n",
    "        summed = list(np.ravel(image_zeroed[[str(i) for i in range(1000)]].sum()))\n",
    "        if imageName in all_summed:\n",
    "            for i in range(len(all_summed[imageName])):\n",
    "                all_summed[imageName][i] += summed[i]\n",
    "        else:\n",
    "            all_summed[imageName] = summed\n",
    "    \n",
    "print(totalImageNames)\n",
    "\n",
    "summedOutput = pd.DataFrame(data=all_summed).T\n",
    "summedOutput.to_csv(FEATURE_FILE)"
   ]
  },
  {
   "cell_type": "code",
   "execution_count": null,
   "metadata": {
    "collapsed": true
   },
   "outputs": [],
   "source": []
  }
 ],
 "metadata": {
  "kernelspec": {
   "display_name": "Python 3",
   "language": "python",
   "name": "python3"
  },
  "language_info": {
   "codemirror_mode": {
    "name": "ipython",
    "version": 3
   },
   "file_extension": ".py",
   "mimetype": "text/x-python",
   "name": "python",
   "nbconvert_exporter": "python",
   "pygments_lexer": "ipython3",
   "version": "3.6.3"
  }
 },
 "nbformat": 4,
 "nbformat_minor": 1
}
