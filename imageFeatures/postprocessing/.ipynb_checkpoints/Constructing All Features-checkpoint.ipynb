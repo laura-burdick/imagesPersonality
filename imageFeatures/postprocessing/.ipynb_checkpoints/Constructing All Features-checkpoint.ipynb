{
 "cells": [
  {
   "cell_type": "code",
   "execution_count": null,
   "metadata": {
    "collapsed": true
   },
   "outputs": [],
   "source": [
    "import pandas as pd\n",
    "import numpy as np\n",
    "import copy"
   ]
  },
  {
   "cell_type": "code",
   "execution_count": null,
   "metadata": {
    "collapsed": true
   },
   "outputs": [],
   "source": [
    "#Update these variables to work with your setup\n",
    "dataFolder = 'data2016'\n",
    "BASIC_FEATURES = dataFolder + \"/image_features/features_basic.csv\"\n",
    "COLOR_FEATURES = dataFolder + \"/image_features/features_color.csv\"\n",
    "TEXTURE_FEATURES = dataFolder + \"/image_features/features_texture.csv\"\n",
    "OBJECT_FEATURES = dataFolder + \"/image_features/features_objects.csv\"\n",
    "SCENE_FEATURES = dataFolder + \"/image_features/features_scene.csv\"\n",
    "FACE_FEATURES = dataFolder + \"/image_features/features_faces.csv\"\n",
    "WORDNET_DOMAINS_FEATURES = dataFolder+ \"/image_features/features_objects_wordnet_domains.csv\"\n",
    "ALL_FEATURES = dataFolder + \"/image_features/features_image_all.csv\" #will be generated\n",
    "AVERAGE_FEATURES = dataFolder + \"/image_features/features_image_all_averages.csv\" #will be generated"
   ]
  },
  {
   "cell_type": "code",
   "execution_count": null,
   "metadata": {
    "collapsed": true
   },
   "outputs": [],
   "source": [
    "#BASIC - ONLY RUN ONCE\n",
    "features_basic = pd.read_csv(BASIC_FEATURES)\n",
    "features_basic = features_basic.drop(['black_%', 'gray_%',\n",
    "       'silver_%', 'white_%', 'maroon_%', 'red_%.1', 'olive_%', 'yellow_%',\n",
    "       'green_%.1', 'lime_%', 'teal_%', 'aqua_%', 'navy_%', 'blue_%.1',\n",
    "       'purple_%', 'fuchsia_%'],axis=1)\n",
    "features_basic.to_csv(BASIC_FEATURES)"
   ]
  },
  {
   "cell_type": "code",
   "execution_count": null,
   "metadata": {
    "collapsed": true
   },
   "outputs": [],
   "source": [
    "#COLOR - ONLY RUN ONCE\n",
    "features_color = pd.read_csv(COLOR_FEATURES,header=None)\n",
    "features_color.columns = ['id','imageNum','black','blue','brown','grey','green','orange','pink','purple','red','white',\n",
    "                    'yellow']\n",
    "features_color.to_csv(dataFolder + \"/image_features/features_color_unnormalized.csv\")\n",
    "\n",
    "colors = ['black','blue','brown','grey','green','orange','pink','purple','red','white','yellow']\n",
    "features_color[colors] = features_color[colors].div(features_color[colors].sum(axis=1), axis=0)\n",
    "features_color.to_csv(COLOR_FEATURES)"
   ]
  },
  {
   "cell_type": "code",
   "execution_count": null,
   "metadata": {
    "collapsed": true
   },
   "outputs": [],
   "source": [
    "#TEXTURE - ONLY RUN ONCE\n",
    "features_texture = pd.read_csv(TEXTURE_FEATURES,header=None)\n",
    "features_texture.columns = ['id','imageNum','contrast','correlation','energy','homogeneity']\n",
    "features_texture.to_csv(TEXTURE_FEATURES)"
   ]
  },
  {
   "cell_type": "code",
   "execution_count": null,
   "metadata": {
    "collapsed": true
   },
   "outputs": [],
   "source": [
    "#FACES - ONLY RUN ONCE\n",
    "features_faceDetection = pd.read_csv(FACE_FEATURES,header=None)\n",
    "features_faceDetection.columns = ['fileName','num_faces']\n",
    "imageNums = []\n",
    "ids = []\n",
    "for it,row in features_faceDetection.iterrows():\n",
    "    imageNums.append(row.fileName[-6])\n",
    "    ids.append(row.fileName.split('/')[-2])\n",
    "features_faceDetection['id'] = ids\n",
    "features_faceDetection['imageNum'] = imageNums\n",
    "features_faceDetection = features_faceDetection.drop(['fileName'],axis=1)\n",
    "features_faceDetection.to_csv(FACE_FEATURES)"
   ]
  },
  {
   "cell_type": "code",
   "execution_count": null,
   "metadata": {
    "collapsed": true
   },
   "outputs": [],
   "source": [
    "#SCENES - ONLY RUN ONCE\n",
    "sceneFeatures = pd.read_csv(SCENE_FEATURES,header=None)\n",
    "\n",
    "labels = [\"abbey\",\"airport terminal\",\"alley\",\"amphitheater\",\"amusement park\",\n",
    "         \"aquarium\",\"aqueduct\",\"arch\",\"art gallery\",\"art studio\",\"assembly line\",\n",
    "         \"attic\",\"auditorium\",\"apartment building outdoor\",\"badlands\",\"ballroom\",\n",
    "         \"bamboo forest\",\"banquet hall\",\"bar\",\"baseball_field\",\"basement\",\"basilica\",\n",
    "         \"bayou\",\"beauty salon\",\"bedroom\",\"boardwalk\",\"boat deck\",\"bookstore\",\n",
    "         \"botanical garden\",\"bowling alley\",\"boxing ring\",\"bridge\",\"building facade\",\n",
    "         \"bus interior\",\"butchers shop\",\"butte\",\"bakery shop\",\"cafeteria\",\"campsite\",\n",
    "         \"candy store\",\"canyon\",\"castle\",\"cemetery\",\"chalet\",\"classroom\",\"closet\",\n",
    "         \"clothing store\",\"coast\",\"cockpit\",\"coffee shop\",\"conference center\",\n",
    "         \"conference room\",\"construction site\",\"corn field\",\"corridor\",\"cottage garden\",\n",
    "         \"courthouse\",\"courtyard\",\"creek\",\"crevasse\",\"crosswalk\",\"cathedral outdoor\",\n",
    "         \"church outdoor\",\"dam\",\"dining room\",\"dock\",\"dorm room\",\"driveway\",\"desert sand\",\n",
    "         \"desert vegetation\",\"dinette home\",\"doorway outdoor\",\"engine room\",\"excavation\",\n",
    "         \"fairway\",\"fire escape\",\"fire station\",\"food court\",\"forest path\",\"forest road\",\n",
    "         \"formal garden\",\"fountain\",\"field cultivated\",\"field wild\",\"galley\",\"game room\",\n",
    "         \"garbage dump\",\"gas station\",\"gift shop\",\"golf course\",\"harbor\",\"herb garden\",\n",
    "         \"highway\",\"home office\",\"hospital\",\"hospital room\",\"hot spring\",\"hotel room\",\n",
    "         \"hotel outdoor\", \"ice cream parlor\",\"iceberg\",\"igloo\",\"islet\",\n",
    "         \"ice skating rink outdoor\",\"inn outdoor\",\"jail cell\",\"kasbah\",\n",
    "         \"kindergarden classroom\",\"kitchen\",\"kitchenette\",\"laundromat\",\"lighthouse\",\n",
    "         \"living room\",\"lobby\",\"locker room\",\"mansion\",\"marsh\",\"martial arts gym\",\"mausoleum\",\n",
    "         \"medina\",\"motel\",\"mountain\",\"mountain snowy\",\"music studio\",\"market outdoor\",\n",
    "         \"monastery outdoor\",\"museum indoor\",\"nursery\",\"ocean\",\"office\",\"office building\",\n",
    "         \"orchard\",\"pagoda\",\"palace\",\"pantry\",\"parking lot\",\"parlor\",\"pasture\",\"patio\",\n",
    "         \"pavilion\",\"phone booth\",\"picnic area\",\"playground\",\"plaza\",\"pond\",\"pulpit\",\n",
    "         \"racecourse\",\"raft\",\"railroad track\",\"rainforest\",\"reception\",\n",
    "         \"residential neighborhood\",\"restaurant\",\"restaurant kitchen\",\"restaurant patio\",\n",
    "         \"rice paddy\",\"river\",\"rock arch\",\"rope bridge\",\"ruin\",\"runway\",\"sandbar\",\n",
    "         \"schoolhouse\",\"sea cliff\",\"shed\",\"shoe shop\",\"shopfront\",\"shower\",\"ski resort\",\n",
    "         \"ski slope\",\"sky\",\"skyscraper\",\"slum\",\"snowfield\",\"staircase\",\"supermarket\",\"swamp\",\n",
    "         \"stadium baseball\",\"stadium football\",\"stage indoor\",\"subway station platform\",\n",
    "         \"swimmming pool outdoor\",\"television studio\",\"topiary garden\",\"tower\",\"train railway\",\n",
    "         \"tree farm\",\"trench\",\"temple east asia\",\"temple south asia\",\"track outdoor\",\n",
    "         \"train station platform\",\"underwater coral reef\",\"valley\",\"vegetable garden\",\n",
    "         \"veranda\",\"viaduct\",\"volcano\",\"waiting room\",\"water tower\",\"watering hole\",\n",
    "         \"wheat field\",\"wind farm\",\"windmill\",\"yard\"]\n",
    "\n",
    "labels = [\"PLACES \"+label for label in labels]\n",
    "\n",
    "labelsPlus = copy.copy(labels)\n",
    "labelsPlus.insert(0,'imageNum')\n",
    "labelsPlus.insert(0,'id')\n",
    "sceneFeatures.columns = labelsPlus\n",
    "\n",
    "sceneFeatures.to_csv(SCENE_FEATURES)"
   ]
  },
  {
   "cell_type": "code",
   "execution_count": null,
   "metadata": {
    "collapsed": true
   },
   "outputs": [],
   "source": [
    "#OBJECTS - ONLY RUN ONCE\n",
    "features_objects2 = pd.read_csv(OBJECT_FEATURES)\n",
    "#features_objects2 = features_objects2.drop('Unnamed: 0',axis=1)\n",
    "\n",
    "fullFileNames = np.ravel(features_objects2[['Unnamed: 0']].as_matrix())\n",
    "\n",
    "ids = []\n",
    "imageNums = []\n",
    "for fileName in fullFileNames:\n",
    "    imageNums.append(fileName[-5])\n",
    "    split = fileName.split('/')\n",
    "    ids.append(split[-2])\n",
    "    \n",
    "features_objects2['id'] = ids\n",
    "features_objects2['imageNum'] = imageNums\n",
    "\n",
    "features_objects2 = features_objects2.drop('Unnamed: 0',axis=1)\n",
    "\n",
    "f = open('imagenet_synset_words.txt', 'r')\n",
    "labels = []\n",
    "for line in f:\n",
    "    #line = line[line.find(\" \")+1:-1]\n",
    "    labels.append(line)\n",
    "    \n",
    "labels = [\"IMAGENET \"+label for label in labels]\n",
    "labels.append('id')\n",
    "labels.append('imageNum')\n",
    "features_objects2.columns = labels\n",
    "\n",
    "features_objects2 = features_objects2.groupby(['id','imageNum']).sum().reset_index()\n",
    "\n",
    "#Some of the images don't have any bounding boxes generated for them\n",
    "#Add all 0s for these images\n",
    "ids = ['aaa']\n",
    "imageNums = ['5','5','3','3']\n",
    "\n",
    "allArs = []\n",
    "for i in range(len(ids)):\n",
    "    ar = [ids[i],imageNums[i]] + [0]*1000\n",
    "    allArs.append(ar)\n",
    "    \n",
    "noBoxes = pd.DataFrame(data=allArs,columns=features_objects2.columns)\n",
    "features_objects2 = features_objects2.append(noBoxes)\n",
    "\n",
    "features_objects2.to_csv(OBJECT_FEATURES)"
   ]
  },
  {
   "cell_type": "code",
   "execution_count": null,
   "metadata": {
    "collapsed": true
   },
   "outputs": [],
   "source": [
    "#ONLY RUN ONCE\n",
    "#Generate all features spreadsheet\n",
    "#features = [features_basic,features_color,features_faceDetection,features_scene,features_sift,features_texture,\n",
    "#            features_objects]\n",
    "features = [features_basic,features_color,features_texture,features_objects,features_scene]\n",
    "allFeatures = features[0].merge(features[1],how='outer')\n",
    "for i in range(2,len(features)):\n",
    "    allFeatures = allFeatures.merge(features[i],how='outer')\n",
    "allFeatures.to_csv(ALL_FEATURES)"
   ]
  },
  {
   "cell_type": "code",
   "execution_count": null,
   "metadata": {
    "collapsed": true,
    "scrolled": true
   },
   "outputs": [],
   "source": [
    "#ONLY RUN ONCE\n",
    "#Generate average features spreadsheet\n",
    "averageFeatures = allFeatures.drop('imageNum',axis=1)\n",
    "averageFeatures = averageFeatures.groupby('id').mean()\n",
    "averageFeatures = averageFeatures.reset_index()\n",
    "#averageFeatures['num_images'] = allFeatures[['id','imageNum']].groupby('id').count()['imageNum'].as_matrix()\n",
    "averageFeatures.to_csv(AVERAGE_FEATURES)"
   ]
  },
  {
   "cell_type": "code",
   "execution_count": null,
   "metadata": {
    "collapsed": true
   },
   "outputs": [],
   "source": []
  }
 ],
 "metadata": {
  "kernelspec": {
   "display_name": "Python 3",
   "language": "python",
   "name": "python3"
  },
  "language_info": {
   "codemirror_mode": {
    "name": "ipython",
    "version": 3
   },
   "file_extension": ".py",
   "mimetype": "text/x-python",
   "name": "python",
   "nbconvert_exporter": "python",
   "pygments_lexer": "ipython3",
   "version": "3.6.3"
  }
 },
 "nbformat": 4,
 "nbformat_minor": 1
}
