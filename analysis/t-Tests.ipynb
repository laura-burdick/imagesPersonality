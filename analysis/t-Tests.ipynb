{
 "cells": [
  {
   "cell_type": "code",
   "execution_count": null,
   "metadata": {
    "collapsed": true
   },
   "outputs": [],
   "source": [
    "#Use t-test to determine attributes that are significantly different between men and women"
   ]
  },
  {
   "cell_type": "code",
   "execution_count": null,
   "metadata": {
    "collapsed": true
   },
   "outputs": [],
   "source": [
    "from scipy.stats import ttest_ind\n",
    "import pandas as pd\n",
    "import math"
   ]
  },
  {
   "cell_type": "code",
   "execution_count": null,
   "metadata": {
    "collapsed": true
   },
   "outputs": [],
   "source": [
    "# Input formats\n",
    "# \n",
    "# GROUND_TRUTH_FILE is assumed to have ground truth gender data for each user\n",
    "# Specifically, this code looks for the columns 'Sex' (user gender), 'id' (user id)\n",
    "#\n",
    "# FEATURE_FILE is assumed the have various features for each user\n",
    "# Specifically, this code looks for the column 'userid' (user id)"
   ]
  },
  {
   "cell_type": "code",
   "execution_count": null,
   "metadata": {
    "collapsed": true
   },
   "outputs": [],
   "source": [
    "#Change these variables for your setup\n",
    "home = 'data2016/'\n",
    "FEATURE_FILE = home+\"text_features/all_captions_unigrams_normalized.csv\" #file with features to analyze\n",
    "features = allFeatures.columns.values[:-1] #which features should we analyze?\n",
    "GROUND_TRUTH_FILE = home+\"data_analytics_cleaned.csv\" #ground truth data (men and women annotated)"
   ]
  },
  {
   "cell_type": "code",
   "execution_count": null,
   "metadata": {
    "collapsed": true
   },
   "outputs": [],
   "source": [
    "allFeatures = pd.read_csv(FEATURE_FILE)\n",
    "allFeatures = allFeatures.drop(['Unnamed: 0'],axis=1)"
   ]
  },
  {
   "cell_type": "code",
   "execution_count": null,
   "metadata": {
    "collapsed": true
   },
   "outputs": [],
   "source": [
    "#If necessary, average features together\n",
    "allFeatures = allFeatures.drop('imageNum',axis=1) #Average features together\n",
    "allFeatures = allFeatures.groupby('id').mean()\n",
    "allFeatures = allFeatures.reset_index()"
   ]
  },
  {
   "cell_type": "code",
   "execution_count": null,
   "metadata": {
    "collapsed": true
   },
   "outputs": [],
   "source": [
    "groundTruth = pd.read_csv(GROUND_TRUTH_FILE)\n",
    "groundTruth = groundTruth.drop(\"Unnamed: 0\",axis=1)"
   ]
  },
  {
   "cell_type": "code",
   "execution_count": null,
   "metadata": {
    "collapsed": true,
    "scrolled": true
   },
   "outputs": [],
   "source": [
    "merged = allFeatures.merge(groundTruth[['id','Sex']],left_on='userid',right_on='id')\n",
    "merged = merged.drop('userid',axis=1)"
   ]
  },
  {
   "cell_type": "code",
   "execution_count": null,
   "metadata": {
    "collapsed": true
   },
   "outputs": [],
   "source": [
    "statistics = []\n",
    "pValues = []\n",
    "for feature in features:\n",
    "    cleaned = merged[['Sex',feature]].dropna()\n",
    "    male = cleaned.loc[cleaned.Sex==1][feature]\n",
    "    female = cleaned.loc[cleaned.Sex==2][feature]\n",
    "    stat, p = ttest_ind(male,female,equal_var=False)\n",
    "    statistics.append(stat)\n",
    "    pValues.append(p)"
   ]
  },
  {
   "cell_type": "code",
   "execution_count": null,
   "metadata": {
    "collapsed": true,
    "scrolled": true
   },
   "outputs": [],
   "source": [
    "#Effect sizes formatted for LaTeX (not sorted)\n",
    "effect_sizes = []\n",
    "feature_names = []\n",
    "\n",
    "for i in range(len(features)):\n",
    "    if pValues[i] < .05:\n",
    "        #print(features[i],pValues[i])\n",
    "        male = merged.loc[merged.Sex==1][features[i]]\n",
    "        female = merged.loc[merged.Sex==2][features[i]]\n",
    "        effect_size = (female.mean()-male.mean())/math.sqrt((female.std()*female.std()+male.std()*male.std())/2.0)\n",
    "        \n",
    "        feature_names.append(features[i])\n",
    "        effect_sizes.append(effect_size)\n",
    "        \n",
    "        print(features[i] + ' & ' + str(effect_size) +  '\\\\\\\\')"
   ]
  },
  {
   "cell_type": "code",
   "execution_count": null,
   "metadata": {
    "collapsed": true
   },
   "outputs": [],
   "source": [
    "#Sorted effect sizes\n",
    "effect_sizes_mag = [abs(i) for i in effect_sizes]\n",
    "indices = sorted(range(len(effect_sizes_mag)), key=lambda i: effect_sizes_mag[i])\n",
    "for i in indices[-13:]: #Only look at top 13 highest effect sizes\n",
    "    print(feature_names[i],effect_sizes[i])"
   ]
  }
 ],
 "metadata": {
  "kernelspec": {
   "display_name": "Python 3",
   "language": "python",
   "name": "python3"
  },
  "language_info": {
   "codemirror_mode": {
    "name": "ipython",
    "version": 3
   },
   "file_extension": ".py",
   "mimetype": "text/x-python",
   "name": "python",
   "nbconvert_exporter": "python",
   "pygments_lexer": "ipython3",
   "version": "3.6.3"
  }
 },
 "nbformat": 4,
 "nbformat_minor": 1
}
