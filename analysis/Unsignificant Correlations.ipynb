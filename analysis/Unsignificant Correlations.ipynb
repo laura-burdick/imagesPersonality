{
 "cells": [
  {
   "cell_type": "code",
   "execution_count": null,
   "metadata": {
    "collapsed": true
   },
   "outputs": [],
   "source": [
    "#Get raw correlations matrix (with p-values matrix), before any significance testing"
   ]
  },
  {
   "cell_type": "code",
   "execution_count": null,
   "metadata": {
    "collapsed": true
   },
   "outputs": [],
   "source": [
    "from scipy.stats import pearsonr\n",
    "import pandas as pd"
   ]
  },
  {
   "cell_type": "code",
   "execution_count": null,
   "metadata": {
    "collapsed": true
   },
   "outputs": [],
   "source": [
    "# Input formats\n",
    "# \n",
    "# GROUND_TRUTH_FILE is assumed to have ground truth personality data for each user\n",
    "# Specifically, this code looks for the columns 'bfi_o' (Openness), 'bfi_c' (Conscientiousness),\n",
    "# 'bfi_e' (Extraversion), 'bfi_a' (Agreeableness), and 'bfi_n' (Neuroticism), 'id' (user id)\n",
    "#\n",
    "# FEATURES_FILE is assumed the have various features for each user\n",
    "# Specifically, this code looks for the column 'userid' (user id)"
   ]
  },
  {
   "cell_type": "code",
   "execution_count": null,
   "metadata": {
    "collapsed": true
   },
   "outputs": [],
   "source": [
    "#Change these variables for your setup\n",
    "home = 'data2016/'\n",
    "GROUND_TRUTH_FILE = home+\"data_analytics_cleaned.csv\" #contains ground truth personality data\n",
    "FEATURES_FILE = home+\"text_features/all_captions_unigrams_normalized.csv\" #contains features to test\n",
    "allFeatures = [i for i in results.columns.values if i[-11:] == '_normalized'] #list of features to test\n",
    "PEARSON_VALUES_FILE = home+\"correlations/all_captions_unigrams_normalized_pearsonValues.csv\" #will be generated\n",
    "P_VALUES_FILE = home+\"correlations/all_captions_unigrams_normalized_pValues.csv\" #will be generated"
   ]
  },
  {
   "cell_type": "code",
   "execution_count": null,
   "metadata": {
    "collapsed": true
   },
   "outputs": [],
   "source": [
    "groundTruth = pd.read_csv(GROUND_TRUTH_FILE)\n",
    "groundTruth = groundTruth.drop('Unnamed: 0',axis=1)"
   ]
  },
  {
   "cell_type": "code",
   "execution_count": null,
   "metadata": {
    "collapsed": true
   },
   "outputs": [],
   "source": [
    "results = pd.read_csv(FEATURES_FILE,index_col=0)\n",
    "results = results.merge(groundTruth,left_on=\"userid\",right_on='id')"
   ]
  },
  {
   "cell_type": "code",
   "execution_count": null,
   "metadata": {
    "collapsed": true
   },
   "outputs": [],
   "source": [
    "left = ['bfi_o','bfi_c','bfi_e','bfi_a','bfi_n']\n",
    "right = allFeatures"
   ]
  },
  {
   "cell_type": "code",
   "execution_count": null,
   "metadata": {
    "collapsed": true
   },
   "outputs": [],
   "source": [
    "pearsonValues = pd.DataFrame([],columns=right,index=left)\n",
    "pValues = pd.DataFrame([],columns=right,index=left)\n",
    "\n",
    "#Calculate pearson and p values\n",
    "for personalityFeature in left:\n",
    "    for imageFeature in right:\n",
    "        if personalityFeature != imageFeature:\n",
    "            clean = results[[personalityFeature,imageFeature]].dropna()\n",
    "        else:\n",
    "            clean = results[[personalityFeature]].dropna()\n",
    "        pearson, p = pearsonr(clean[personalityFeature],clean[imageFeature])\n",
    "        if pearson != pearson:\n",
    "            pearson = 0\n",
    "        pearsonValues.loc[personalityFeature,imageFeature] = pearson\n",
    "        pValues.loc[personalityFeature,imageFeature] = p\n",
    "\n",
    "pearsonValues.to_csv(PEARSON_VALUES_FILE)\n",
    "pValues.to_csv(P_VALUES_FILE)"
   ]
  }
 ],
 "metadata": {
  "kernelspec": {
   "display_name": "Python 3",
   "language": "python",
   "name": "python3"
  },
  "language_info": {
   "codemirror_mode": {
    "name": "ipython",
    "version": 3
   },
   "file_extension": ".py",
   "mimetype": "text/x-python",
   "name": "python",
   "nbconvert_exporter": "python",
   "pygments_lexer": "ipython3",
   "version": "3.6.3"
  }
 },
 "nbformat": 4,
 "nbformat_minor": 2
}
