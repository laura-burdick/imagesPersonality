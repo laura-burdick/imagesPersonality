{
 "cells": [
  {
   "cell_type": "code",
   "execution_count": null,
   "metadata": {
    "collapsed": true
   },
   "outputs": [],
   "source": [
    "#Normalizes caption features (do this before correlation and prediction)"
   ]
  },
  {
   "cell_type": "code",
   "execution_count": null,
   "metadata": {
    "collapsed": true
   },
   "outputs": [],
   "source": [
    "import pandas as pd"
   ]
  },
  {
   "cell_type": "code",
   "execution_count": null,
   "metadata": {
    "collapsed": true
   },
   "outputs": [],
   "source": [
    "#Change these variables to work with your setup\n",
    "home = 'data2016/'\n",
    "TEXT_FILE = home+\"text_features/allText.csv\" #all caption text (throughout, you might need to change the names of the different columns to match your file)"
   ]
  },
  {
   "cell_type": "code",
   "execution_count": null,
   "metadata": {
    "collapsed": true
   },
   "outputs": [],
   "source": [
    "textFeatures = pd.read_csv(TEXT_FILE)\n",
    "textFeatures = textFeatures.drop(\"Unnamed: 0\",axis=1)"
   ]
  },
  {
   "cell_type": "code",
   "execution_count": null,
   "metadata": {
    "collapsed": true
   },
   "outputs": [],
   "source": [
    "nerFeatures = ['all_captions_NER_PERSON','all_captions_NER_ORG','all_captions_NER_LOCATION']\n",
    "liwcFeatures = [i for i in textFeatures.columns.values if i[:18]=='all_captions_LIWC_']\n",
    "mrcFeatures = [i for i in textFeatures.columns.values if i[:17]=='all_captions_MRC_']\n",
    "miscFeatures = ['all_captions_num_words','all_captions_long_words','all_captions_num_numbers','all_captions_FRE',\n",
    "               'all_captions_ARI','all_captions_FK','all_captions_CL','all_captions_GFI','all_captions_SMOG',\n",
    "               'all_captions_specificity']\n",
    "\n",
    "text_feature_sets = [nerFeatures,liwcFeatures,mrcFeatures,miscFeatures]\n",
    "names = ['ner','liwc','mrc','misc']"
   ]
  },
  {
   "cell_type": "code",
   "execution_count": null,
   "metadata": {
    "collapsed": true
   },
   "outputs": [],
   "source": [
    "allFeatures = nerFeatures + liwcFeatures + mrcFeatures + miscFeatures"
   ]
  },
  {
   "cell_type": "code",
   "execution_count": null,
   "metadata": {
    "scrolled": true
   },
   "outputs": [],
   "source": [
    "allFeatures"
   ]
  },
  {
   "cell_type": "code",
   "execution_count": null,
   "metadata": {
    "collapsed": true,
    "scrolled": true
   },
   "outputs": [],
   "source": [
    "for feature in allFeatures:\n",
    "    if feature != \"all_captions_num_words\":\n",
    "        textFeatures[feature + '_normalized'] = textFeatures[feature] / textFeatures[\"all_captions_num_words\"]"
   ]
  },
  {
   "cell_type": "code",
   "execution_count": null,
   "metadata": {
    "collapsed": true
   },
   "outputs": [],
   "source": [
    "textFeatures.to_csv(TEXT_FILE)"
   ]
  },
  {
   "cell_type": "code",
   "execution_count": null,
   "metadata": {
    "collapsed": true
   },
   "outputs": [],
   "source": []
  }
 ],
 "metadata": {
  "kernelspec": {
   "display_name": "Python 3",
   "language": "python",
   "name": "python3"
  },
  "language_info": {
   "codemirror_mode": {
    "name": "ipython",
    "version": 3
   },
   "file_extension": ".py",
   "mimetype": "text/x-python",
   "name": "python",
   "nbconvert_exporter": "python",
   "pygments_lexer": "ipython3",
   "version": "3.6.3"
  }
 },
 "nbformat": 4,
 "nbformat_minor": 1
}
