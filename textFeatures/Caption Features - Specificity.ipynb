{
 "cells": [
  {
   "cell_type": "code",
   "execution_count": null,
   "metadata": {
    "collapsed": true
   },
   "outputs": [],
   "source": [
    "#Use this code (in conjunction with pre-packaged speciteller code) to calculate specificity features for captions"
   ]
  },
  {
   "cell_type": "code",
   "execution_count": null,
   "metadata": {
    "collapsed": true
   },
   "outputs": [],
   "source": [
    "import pandas as pd\n",
    "import nltk"
   ]
  },
  {
   "cell_type": "code",
   "execution_count": null,
   "metadata": {
    "collapsed": true
   },
   "outputs": [],
   "source": [
    "#Change these variables to work with your setup\n",
    "home = 'data2016/'\n",
    "TEXT_FILE = home+\"text_features/allText.csv\" #all caption text (throughout, you might need to change the names of the different columns to match your file)"
   ]
  },
  {
   "cell_type": "code",
   "execution_count": null,
   "metadata": {
    "collapsed": true
   },
   "outputs": [],
   "source": [
    "textFeatures = pd.read_csv(TEXT_FILE)\n",
    "textFeatures = textFeatures.drop('Unnamed: 0',axis=1)"
   ]
  },
  {
   "cell_type": "code",
   "execution_count": null,
   "metadata": {
    "collapsed": true
   },
   "outputs": [],
   "source": [
    "#First, generate output files to be fed into the specifity code\n",
    "for i in range(1,6):\n",
    "    output = open('tokenized_commentfile' + str(i) + '.txt','w')\n",
    "    for comment in textFeatures['commentfile' + str(i)].fillna(''):\n",
    "        #print(unicode(comment.replace('\\n',' '),'utf-8'))\n",
    "        tokenized_comment = nltk.word_tokenize(comment.replace('\\n',' '))\n",
    "        for token in tokenized_comment:\n",
    "            #print(token)\n",
    "            output.write(token + ' ')\n",
    "        output.write('\\n')\n",
    "    output.close()"
   ]
  },
  {
   "cell_type": "code",
   "execution_count": null,
   "metadata": {
    "collapsed": true
   },
   "outputs": [],
   "source": [
    "#Now feed those output files into the speciteller code:\n",
    "#source activate py27\n",
    "#cd software/speciteller\n",
    "#python speciteller.py --inputfile ~/image-processing-pipeline/dataAnalysis/tokenized_commentfile1.txt\n",
    "#--outputfile ~/image-processing-pipeline/dataAnalysis/specificity_commentfile1.txt"
   ]
  },
  {
   "cell_type": "code",
   "execution_count": null,
   "metadata": {
    "collapsed": true
   },
   "outputs": [],
   "source": [
    "#Now, process the specificity measurements into features\n",
    "for i in range(1,6):\n",
    "    inputFile = open('specificity_commentfile' + str(i) + '.txt')\n",
    "    specs = inputFile.readlines()\n",
    "\n",
    "    specScores = []\n",
    "    index = 0\n",
    "    for comment in textFeatures['commentfile' + str(i)].fillna(''):\n",
    "        if comment=='':\n",
    "            specScores.append(0)\n",
    "        else:\n",
    "            specScores.append(float(specs[index][:-1]))\n",
    "            index += 1\n",
    "            \n",
    "    inputFile.close()\n",
    "    textFeatures['commentfile' + str(i) + '_specificity'] = specScores"
   ]
  },
  {
   "cell_type": "code",
   "execution_count": null,
   "metadata": {
    "collapsed": true
   },
   "outputs": [],
   "source": [
    "textFeatures['all_captions_specificity'] = textFeatures['commentfile1_specificity'] + \\\n",
    "    textFeatures['commentfile2_specificity'] + textFeatures['commentfile3_specificity'] + \\\n",
    "    textFeatures['commentfile4_specificity'] + textFeatures['commentfile5_specificity']"
   ]
  },
  {
   "cell_type": "code",
   "execution_count": null,
   "metadata": {
    "collapsed": true
   },
   "outputs": [],
   "source": [
    "textFeatures.to_csv(TEXT_FILE)"
   ]
  },
  {
   "cell_type": "code",
   "execution_count": null,
   "metadata": {
    "collapsed": true
   },
   "outputs": [],
   "source": []
  }
 ],
 "metadata": {
  "kernelspec": {
   "display_name": "Python 3",
   "language": "python",
   "name": "python3"
  },
  "language_info": {
   "codemirror_mode": {
    "name": "ipython",
    "version": 3
   },
   "file_extension": ".py",
   "mimetype": "text/x-python",
   "name": "python",
   "nbconvert_exporter": "python",
   "pygments_lexer": "ipython3",
   "version": "3.6.3"
  }
 },
 "nbformat": 4,
 "nbformat_minor": 1
}
